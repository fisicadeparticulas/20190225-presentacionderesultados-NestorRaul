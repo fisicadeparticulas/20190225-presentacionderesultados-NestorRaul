{
  "nbformat": 4,
  "nbformat_minor": 0,
  "metadata": {
    "colab": {
      "name": "Particulas.ipynb",
      "version": "0.3.2",
      "provenance": []
    },
    "kernelspec": {
      "name": "python3",
      "display_name": "Python 3"
    }
  },
  "cells": [
    {
      "metadata": {
        "id": "VAeGlPnqHoOT",
        "colab_type": "code",
        "colab": {}
      },
      "cell_type": "code",
      "source": [
        "import pandas as pd\n",
        "import numpy as np\n",
        "import matplotlib.pyplot as plt\n",
        "from scipy.stats import norm\n",
        "\n",
        "%matplotlib inline"
      ],
      "execution_count": 0,
      "outputs": []
    },
    {
      "metadata": {
        "id": "3Ogo9iNbHrtb",
        "colab_type": "code",
        "outputId": "365af5cb-9d5b-40ec-87d0-02ad234bdc88",
        "colab": {
          "base_uri": "https://localhost:8080/",
          "height": 197
        }
      },
      "cell_type": "code",
      "source": [
        "P = pd.read_csv('https://goo.gl/5kgxKF')\n",
        "P.head()"
      ],
      "execution_count": 3,
      "outputs": [
        {
          "output_type": "execute_result",
          "data": {
            "text/html": [
              "<div>\n",
              "<style scoped>\n",
              "    .dataframe tbody tr th:only-of-type {\n",
              "        vertical-align: middle;\n",
              "    }\n",
              "\n",
              "    .dataframe tbody tr th {\n",
              "        vertical-align: top;\n",
              "    }\n",
              "\n",
              "    .dataframe thead th {\n",
              "        text-align: right;\n",
              "    }\n",
              "</style>\n",
              "<table border=\"1\" class=\"dataframe\">\n",
              "  <thead>\n",
              "    <tr style=\"text-align: right;\">\n",
              "      <th></th>\n",
              "      <th>Run</th>\n",
              "      <th>Event</th>\n",
              "      <th>type1</th>\n",
              "      <th>E1</th>\n",
              "      <th>px1</th>\n",
              "      <th>py1</th>\n",
              "      <th>pz1</th>\n",
              "      <th>pt1</th>\n",
              "      <th>eta1</th>\n",
              "      <th>phi1</th>\n",
              "      <th>Q1</th>\n",
              "      <th>type2</th>\n",
              "      <th>E2</th>\n",
              "      <th>px2</th>\n",
              "      <th>py2</th>\n",
              "      <th>pz2</th>\n",
              "      <th>pt2</th>\n",
              "      <th>eta2</th>\n",
              "      <th>phi2</th>\n",
              "      <th>Q2</th>\n",
              "    </tr>\n",
              "  </thead>\n",
              "  <tbody>\n",
              "    <tr>\n",
              "      <th>0</th>\n",
              "      <td>165617</td>\n",
              "      <td>75100943</td>\n",
              "      <td>G</td>\n",
              "      <td>6.2039</td>\n",
              "      <td>-4.2666</td>\n",
              "      <td>0.4565</td>\n",
              "      <td>-4.4793</td>\n",
              "      <td>4.2910</td>\n",
              "      <td>-0.9121</td>\n",
              "      <td>3.0350</td>\n",
              "      <td>-1</td>\n",
              "      <td>G</td>\n",
              "      <td>9.6690</td>\n",
              "      <td>7.2740</td>\n",
              "      <td>-2.8211</td>\n",
              "      <td>-5.7104</td>\n",
              "      <td>7.8019</td>\n",
              "      <td>-0.6786</td>\n",
              "      <td>-0.3700</td>\n",
              "      <td>1</td>\n",
              "    </tr>\n",
              "    <tr>\n",
              "      <th>1</th>\n",
              "      <td>165617</td>\n",
              "      <td>75587682</td>\n",
              "      <td>G</td>\n",
              "      <td>19.2892</td>\n",
              "      <td>-4.2121</td>\n",
              "      <td>-0.6516</td>\n",
              "      <td>18.8121</td>\n",
              "      <td>4.2622</td>\n",
              "      <td>2.1905</td>\n",
              "      <td>-2.9881</td>\n",
              "      <td>-1</td>\n",
              "      <td>G</td>\n",
              "      <td>9.8244</td>\n",
              "      <td>4.3439</td>\n",
              "      <td>-0.4735</td>\n",
              "      <td>8.7985</td>\n",
              "      <td>4.3697</td>\n",
              "      <td>1.4497</td>\n",
              "      <td>-0.1086</td>\n",
              "      <td>1</td>\n",
              "    </tr>\n",
              "    <tr>\n",
              "      <th>2</th>\n",
              "      <td>165617</td>\n",
              "      <td>75167029</td>\n",
              "      <td>G</td>\n",
              "      <td>9.7583</td>\n",
              "      <td>2.3903</td>\n",
              "      <td>-3.7824</td>\n",
              "      <td>8.6715</td>\n",
              "      <td>4.4744</td>\n",
              "      <td>1.4156</td>\n",
              "      <td>-1.0072</td>\n",
              "      <td>-1</td>\n",
              "      <td>G</td>\n",
              "      <td>13.5684</td>\n",
              "      <td>-3.3975</td>\n",
              "      <td>5.1910</td>\n",
              "      <td>12.0665</td>\n",
              "      <td>6.2039</td>\n",
              "      <td>1.4187</td>\n",
              "      <td>2.1503</td>\n",
              "      <td>1</td>\n",
              "    </tr>\n",
              "    <tr>\n",
              "      <th>3</th>\n",
              "      <td>165617</td>\n",
              "      <td>75281957</td>\n",
              "      <td>G</td>\n",
              "      <td>9.6365</td>\n",
              "      <td>1.6516</td>\n",
              "      <td>-5.4313</td>\n",
              "      <td>7.7862</td>\n",
              "      <td>5.6769</td>\n",
              "      <td>1.1213</td>\n",
              "      <td>-1.2756</td>\n",
              "      <td>1</td>\n",
              "      <td>G</td>\n",
              "      <td>7.0263</td>\n",
              "      <td>-1.6449</td>\n",
              "      <td>4.4418</td>\n",
              "      <td>5.1887</td>\n",
              "      <td>4.7366</td>\n",
              "      <td>0.9473</td>\n",
              "      <td>1.9255</td>\n",
              "      <td>-1</td>\n",
              "    </tr>\n",
              "    <tr>\n",
              "      <th>4</th>\n",
              "      <td>165617</td>\n",
              "      <td>75393376</td>\n",
              "      <td>G</td>\n",
              "      <td>6.0112</td>\n",
              "      <td>3.3614</td>\n",
              "      <td>2.8883</td>\n",
              "      <td>4.0598</td>\n",
              "      <td>4.4318</td>\n",
              "      <td>0.8208</td>\n",
              "      <td>0.7098</td>\n",
              "      <td>-1</td>\n",
              "      <td>G</td>\n",
              "      <td>7.7557</td>\n",
              "      <td>-5.0416</td>\n",
              "      <td>-3.0126</td>\n",
              "      <td>5.0642</td>\n",
              "      <td>5.8731</td>\n",
              "      <td>0.7806</td>\n",
              "      <td>-2.6030</td>\n",
              "      <td>1</td>\n",
              "    </tr>\n",
              "  </tbody>\n",
              "</table>\n",
              "</div>"
            ],
            "text/plain": [
              "      Run     Event type1       E1     px1     py1      pz1     pt1    eta1  \\\n",
              "0  165617  75100943     G   6.2039 -4.2666  0.4565  -4.4793  4.2910 -0.9121   \n",
              "1  165617  75587682     G  19.2892 -4.2121 -0.6516  18.8121  4.2622  2.1905   \n",
              "2  165617  75167029     G   9.7583  2.3903 -3.7824   8.6715  4.4744  1.4156   \n",
              "3  165617  75281957     G   9.6365  1.6516 -5.4313   7.7862  5.6769  1.1213   \n",
              "4  165617  75393376     G   6.0112  3.3614  2.8883   4.0598  4.4318  0.8208   \n",
              "\n",
              "     phi1  Q1 type2       E2     px2     py2      pz2     pt2    eta2    phi2  \\\n",
              "0  3.0350  -1     G   9.6690  7.2740 -2.8211  -5.7104  7.8019 -0.6786 -0.3700   \n",
              "1 -2.9881  -1     G   9.8244  4.3439 -0.4735   8.7985  4.3697  1.4497 -0.1086   \n",
              "2 -1.0072  -1     G  13.5684 -3.3975  5.1910  12.0665  6.2039  1.4187  2.1503   \n",
              "3 -1.2756   1     G   7.0263 -1.6449  4.4418   5.1887  4.7366  0.9473  1.9255   \n",
              "4  0.7098  -1     G   7.7557 -5.0416 -3.0126   5.0642  5.8731  0.7806 -2.6030   \n",
              "\n",
              "   Q2  \n",
              "0   1  \n",
              "1   1  \n",
              "2   1  \n",
              "3  -1  \n",
              "4   1  "
            ]
          },
          "metadata": {
            "tags": []
          },
          "execution_count": 3
        }
      ]
    },
    {
      "metadata": {
        "id": "4L9d_eAyIcvi",
        "colab_type": "code",
        "outputId": "9e107a7b-e9bb-449c-bd44-267ed7b3ef0e",
        "colab": {
          "base_uri": "https://localhost:8080/",
          "height": 666
        }
      },
      "cell_type": "code",
      "source": [
        "import math\n",
        "\n",
        "pt1=np.array(P.pt1)\n",
        "pt2=np.array(P.pt2)\n",
        "\n",
        "eta1 = np.array(P.eta1)\n",
        "eta2 = np.array(P.eta2)\n",
        "\n",
        "phi1 = np.array(P.phi1)\n",
        "phi2 = np.array(P.phi2)\n",
        "\n",
        "T1 = np.array(P.type1)\n",
        "T2 = np.array(P.type2)\n",
        "\n",
        "print(type(T1[1]))\n",
        "\n",
        "\n",
        "M = np.sqrt(2*pt1*pt2*(np.cosh(eta1-eta2)-np.cos(phi1-phi2)))\n",
        "\n",
        "M2 = np.array([],dtype=float)\n",
        "\n",
        "\n",
        "\n",
        "fig = plt.figure(figsize=(15, 10))\n",
        "\n",
        "\n",
        "plt.xlabel('Invariant mass (GeV/$c^2$)', fontsize = 15)\n",
        "plt.ylabel('Number of events \\n', fontsize = 15)\n",
        "plt.title('Measured distribution of events with two particles \\n', fontsize = 15)\n",
        "\n",
        "plt.xlim(7.3,12.5)\n",
        "\n",
        "U1 = np.array([],dtype=float)\n",
        "U2 = np.array([],dtype=float)\n",
        "U3 = np.array([],dtype=float)\n",
        "U4 = np.array([],dtype=float)\n",
        "U5 = np.array([],dtype=float)\n",
        "U6 = np.array([],dtype=float)\n",
        "\n",
        "aux1 = 0\n",
        "aux2 = 0\n",
        "aux3 = 0\n",
        "aux4 = 0\n",
        "aux5 = 0\n",
        "aux6 = 0\n",
        "\n",
        "\n",
        "for i in range(0,len(M)):\n",
        "  if T1[i] != \"T\" and T2[i] != \"T\":\n",
        "    M2 = np.append(M2,M[i])\n",
        "    \n",
        "\n",
        "\n",
        "for i in range(0,len(M2)):\n",
        "  if 9.2<= M2[i] <= 9.72:\n",
        "    U1 = np.append(U1,[M2[i]])\n",
        "    aux1 += 1\n",
        "  \n",
        "  if 9.971 <= M2[i] <= 10.33:\n",
        "    U2 = np.append(U2,[M2[i]])\n",
        "    aux2 += 1\n",
        "  \n",
        "  if 9.85 <= M2[i] <= 10.85:\n",
        "    U3 = np.append(U3,[M2[i]])\n",
        "    aux3 += 1\n",
        "    \n",
        "  if 10.45 <= M2[i] <= 10.69:\n",
        "    U4 = np.append(U4,[M2[i]])\n",
        "    aux4 += 1\n",
        "  \n",
        "  if 10.62 <= M2[i] <= 11.2:\n",
        "    U5 = np.append(U5,[M2[i]])\n",
        "    aux5 += 1\n",
        "  if 10.68 <= M2[i] <= 11.09:\n",
        "    U6 = np.append(U6,[M2[i]])\n",
        "    aux6 += 1\n",
        "  \n",
        "  \n",
        "plt.hist(M,bins=300)\n",
        "\n",
        "plt.show()\n",
        "\n",
        "\n",
        "\n",
        "\n",
        "\n",
        "\n",
        "\n",
        "\n",
        "\n"
      ],
      "execution_count": 115,
      "outputs": [
        {
          "output_type": "stream",
          "text": [
            "<class 'str'>\n"
          ],
          "name": "stdout"
        },
        {
          "output_type": "display_data",
          "data": {
            "image/png": "[encoded data removed]",
            "text/plain": [
              "<Figure size 1080x720 with 1 Axes>"
            ]
          },
          "metadata": {
            "tags": []
          }
        }
      ]
    },
    {
      "metadata": {
        "id": "l9P08PXCK_G2",
        "colab_type": "code",
        "colab": {
          "base_uri": "https://localhost:8080/",
          "height": 666
        },
        "outputId": "9a2f8e54-2345-41a0-82c8-2419ef297d6f"
      },
      "cell_type": "code",
      "source": [
        "print(len(M2), \"Eventos sobrevivieron al corte\")\n",
        "fig = plt.figure(figsize=(15, 10))\n",
        "\n",
        "plt.xlabel('Invariant mass (GeV/$c^2$)', fontsize = 15)\n",
        "plt.ylabel('Number of events \\n', fontsize = 15)\n",
        "plt.title('Measured distribution of events with two particles \\n', fontsize = 15)\n",
        "\n",
        "plt.xlim(7.3,12.5)\n",
        "\n",
        "plt.hist(M2, bins=300,color='skyblue')\n",
        "plt.show()"
      ],
      "execution_count": 116,
      "outputs": [
        {
          "output_type": "stream",
          "text": [
            "18881 Eventos sobrevivieron al corte\n"
          ],
          "name": "stdout"
        },
        {
          "output_type": "display_data",
          "data": {
            "image/png": "[encoded data removed]",
            "text/plain": [
              "<Figure size 1080x720 with 1 Axes>"
            ]
          },
          "metadata": {
            "tags": []
          }
        }
      ]
    },
    {
      "metadata": {
        "id": "MwDluph7Kiat",
        "colab_type": "code",
        "colab": {
          "base_uri": "https://localhost:8080/",
          "height": 750
        },
        "outputId": "b41dc9dd-f831-43e8-f0e8-91e05dcc52a8"
      },
      "cell_type": "code",
      "source": [
        "fig = plt.figure(figsize=(15, 10))\n",
        "\n",
        "\n",
        "plt.xlabel('Invariant mass (GeV/$c^2$)', fontsize = 15)\n",
        "plt.ylabel('Number of events \\n', fontsize = 15)\n",
        "plt.title('Measured distribution of events with two particles \\n', fontsize = 15)\n",
        "\n",
        "plt.xlim(7.3,12.5)\n",
        "\n",
        "print(aux1,\"Candidatos a Upsilon(1s)\")\n",
        "print(aux2,\"Candidatos a Upsilon(2s)\")\n",
        "print(aux3,\"Candidatos a Upsilon(3s)\")\n",
        "print(aux4,\"Candidatos a Usilon(4s)\")\n",
        "print(aux5,\"Candidatos a Upsilon(10860)\")\n",
        "print(aux6,\"Candidatos a Usilon(11020)\")\n",
        "plt.hist(M2, bins=300,color='skyblue')\n",
        "plt.hist(U1, bins=21,color='blue')\n",
        "#plt.hist(U2, bins=30,color='green')\n",
        "plt.hist(U3, bins=43,color='red')\n",
        "plt.hist(U4, bins=10,color='black')\n",
        "plt.hist(U2, bins=15,color='green')\n",
        "plt.hist(U5, bins=24,color='yellow')\n",
        "plt.hist(U6, bins=17,color='purple')\n",
        "\n",
        "plt.legend(('', 'Upsilon(1s)', ' Upsilon(3s)','Upsilon(4s)','Upsilon(2s)','Upsilon(10860)','Upsilon(11020)'),\n",
        "           loc='upper right')\n",
        "\n",
        "plt.show()"
      ],
      "execution_count": 117,
      "outputs": [
        {
          "output_type": "stream",
          "text": [
            "4117 Candidatos a Upsilon(1s)\n",
            "2395 Candidatos a Upsilon(2s)\n",
            "6008 Candidatos a Upsilon(3s)\n",
            "1240 Candidatos a Usilon(4s)\n",
            "2822 Candidatos a Upsilon(10860)\n",
            "2013 Candidatos a Usilon(11020)\n"
          ],
          "name": "stdout"
        },
        {
          "output_type": "display_data",
          "data": {
            "image/png": "[encoded data removed]",
            "text/plain": [
              "<Figure size 1080x720 with 1 Axes>"
            ]
          },
          "metadata": {
            "tags": []
          }
        }
      ]
    }
  ]
}